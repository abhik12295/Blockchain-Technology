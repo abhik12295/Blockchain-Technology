{
 "cells": [
  {
   "cell_type": "code",
   "execution_count": null,
   "id": "foster-kitchen",
   "metadata": {},
   "outputs": [],
   "source": [
    "\n",
    "import hashlib\n",
    "\n",
    "def calc_hash(self):\n",
    "    sha = hashlib.sha256()\n",
    "    hash_str = \"We are going to encode this string of data!\".encode('utf-8')\n",
    "    sha.update(hash_str)\n",
    "      return sha.hexdigest()\n",
    "\n",
    "class BlockChain:\n",
    "    def __init__(self, timestamp, transaction, prev_hash):\n",
    "        self.prev_block_hash = self.prev_block.hash\n",
    "        s"
   ]
  }
 ],
 "metadata": {
  "kernelspec": {
   "display_name": "Python 3",
   "language": "python",
   "name": "python3"
  },
  "language_info": {
   "codemirror_mode": {
    "name": "ipython",
    "version": 3
   },
   "file_extension": ".py",
   "mimetype": "text/x-python",
   "name": "python",
   "nbconvert_exporter": "python",
   "pygments_lexer": "ipython3",
   "version": "3.9.1"
  }
 },
 "nbformat": 4,
 "nbformat_minor": 5
}
